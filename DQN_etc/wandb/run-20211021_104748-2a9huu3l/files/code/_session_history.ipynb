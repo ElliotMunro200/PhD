{
 "cells": [
  {
   "cell_type": "code",
   "execution_count": 1,
   "id": "77ff0ecf",
   "metadata": {},
   "outputs": [],
   "source": [
    "print('PyDev console: using IPython 7.22.0\\n')\n",
    "\n",
    "import sys; print('Python %s on %s' % (sys.version, sys.platform))\n",
    "sys.path.extend(['C:\\\\Users\\\\Jack-Server\\\\PycharmProjects\\\\pythonProject', 'C:/Users/Jack-Server/PycharmProjects/pythonProject'])"
   ]
  },
  {
   "cell_type": "code",
   "execution_count": 2,
   "id": "417b9d86",
   "metadata": {},
   "outputs": [
    {
     "data": {
      "text/plain": [
       "<IPython.core.display.HTML object>"
      ]
     },
     "metadata": {},
     "output_type": "display_data"
    }
   ],
   "source": [
    "runfile('C:/Users/Jack-Server/Documents/GitHub/PhD/Modern Implementations/DQN_etc/DQN_Classes.py', wdir='C:/Users/Jack-Server/Documents/GitHub/PhD/Modern Implementations/DQN_etc')"
   ]
  }
 ],
 "metadata": {
  "kernelspec": {
   "display_name": "Python 3",
   "language": "python",
   "name": "python3"
  },
  "language_info": {
   "name": "python",
   "version": "3.9.4 (default, Apr  9 2021, 11:43:21) [MSC v.1916 64 bit (AMD64)]"
  }
 },
 "nbformat": 4,
 "nbformat_minor": 5
}
